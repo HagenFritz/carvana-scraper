{
 "cells": [
  {
   "cell_type": "code",
   "execution_count": 10,
   "metadata": {},
   "outputs": [
    {
     "name": "stdout",
     "output_type": "stream",
     "text": [
      "The autoreload extension is already loaded. To reload it, use:\n",
      "  %reload_ext autoreload\n"
     ]
    }
   ],
   "source": [
    "import argparse\n",
    "import logging\n",
    "import pathlib\n",
    "import sys\n",
    "import os\n",
    "sys.path.append('../')\n",
    "import json\n",
    "\n",
    "import pandas as pd\n",
    "\n",
    "from webdriver_manager.chrome import ChromeDriverManager\n",
    "\n",
    "from selenium import webdriver\n",
    "from selenium.webdriver.common.by import By\n",
    "from selenium.common.exceptions import NoSuchElementException, TimeoutException\n",
    "from selenium.webdriver.chrome.service import Service\n",
    "from selenium.webdriver.chrome.options import Options\n",
    "from selenium.webdriver.support.wait import WebDriverWait\n",
    "from selenium.webdriver.support.ui import Select\n",
    "from selenium.webdriver.support import expected_conditions as EC\n",
    "\n",
    "%load_ext autoreload\n",
    "%autoreload 2"
   ]
  },
  {
   "cell_type": "code",
   "execution_count": 11,
   "metadata": {},
   "outputs": [],
   "source": [
    "import src.get_data as getter"
   ]
  },
  {
   "cell_type": "markdown",
   "metadata": {},
   "source": [
    "# Importing and Working with Filters from JSON"
   ]
  },
  {
   "cell_type": "code",
   "execution_count": 12,
   "metadata": {},
   "outputs": [],
   "source": [
    "with open('../data/filters.json') as f:\n",
    "        filters = json.load(f)"
   ]
  },
  {
   "cell_type": "code",
   "execution_count": 13,
   "metadata": {},
   "outputs": [
    {
     "data": {
      "text/plain": [
       "{'price_range': {'min': 0, 'max': 40000},\n",
       " 'make': {'standard': ['Chevrolet',\n",
       "   'Chrysler',\n",
       "   'Dodge',\n",
       "   'Ford',\n",
       "   'Honda',\n",
       "   'Hyundai',\n",
       "   'Jeep',\n",
       "   'Kia',\n",
       "   'Nissan',\n",
       "   'Subaru',\n",
       "   'Toyota',\n",
       "   'Volkswagen'],\n",
       "  'luxury': ['Acura', 'Audi', 'BMW', 'INFINITI', 'Lexus', 'Mercedes-Benz'],\n",
       "  'electric': ['Tesla'],\n",
       "  'misc': []},\n",
       " 'body_type': ['Suv', 'Sedan', 'Hatchback', 'Truck', 'Wagon'],\n",
       " 'year': {'min': 2015, 'max': 2022}}"
      ]
     },
     "execution_count": 13,
     "metadata": {},
     "output_type": "execute_result"
    }
   ],
   "source": [
    "filters"
   ]
  },
  {
   "cell_type": "markdown",
   "metadata": {},
   "source": [
    "### Test Results"
   ]
  },
  {
   "cell_type": "code",
   "execution_count": 14,
   "metadata": {},
   "outputs": [
    {
     "name": "stdout",
     "output_type": "stream",
     "text": [
      "make :  2040\n",
      "model :  2040\n",
      "year :  2040\n",
      "trim :  2040\n",
      "mileage :  2040\n",
      "price :  2040\n",
      "monthly_payment :  2040\n",
      "status :  0\n",
      "link :  2040\n"
     ]
    }
   ],
   "source": [
    "with open(\"../data/processed/available_cars.json\") as f:\n",
    "    test_data = json.load(f)\n",
    "\n",
    "for key in test_data.keys():\n",
    "    print(key ,\": \",len(test_data[key]))"
   ]
  },
  {
   "cell_type": "markdown",
   "metadata": {},
   "source": [
    "## Determining Filter Hierarchy\n",
    "We need to determine what order we want to loop through the filters:\n",
    "1. **Price and Year**: Since these are unchanging, we set these first\n",
    "2. **Make**\n",
    "3. **Body Type**"
   ]
  },
  {
   "cell_type": "code",
   "execution_count": 15,
   "metadata": {},
   "outputs": [
    {
     "data": {
      "text/plain": [
       "0"
      ]
     },
     "execution_count": 15,
     "metadata": {},
     "output_type": "execute_result"
    }
   ],
   "source": [
    "filters[\"price_range\"][\"min\"]"
   ]
  },
  {
   "cell_type": "code",
   "execution_count": 16,
   "metadata": {},
   "outputs": [
    {
     "data": {
      "text/plain": [
       "['Chevrolet',\n",
       " 'Chrysler',\n",
       " 'Dodge',\n",
       " 'Ford',\n",
       " 'Honda',\n",
       " 'Hyundai',\n",
       " 'Jeep',\n",
       " 'Kia',\n",
       " 'Nissan',\n",
       " 'Subaru',\n",
       " 'Toyota',\n",
       " 'Volkswagen']"
      ]
     },
     "execution_count": 16,
     "metadata": {},
     "output_type": "execute_result"
    }
   ],
   "source": [
    "filters[\"make\"][\"standard\"]"
   ]
  },
  {
   "cell_type": "markdown",
   "metadata": {},
   "source": [
    "# Getting Vehicle Details with BeautifulSoup"
   ]
  },
  {
   "cell_type": "code",
   "execution_count": 17,
   "metadata": {},
   "outputs": [],
   "source": [
    "from bs4 import BeautifulSoup"
   ]
  },
  {
   "cell_type": "code",
   "execution_count": 36,
   "metadata": {},
   "outputs": [],
   "source": [
    "scraper = getter.Scraper()\n",
    "scraper.driver.get(\"https://www.carvana.com/cars/chevrolet?email-capture=&page=7\")\n",
    "html = scraper.driver.page_source # get the html source\n",
    "soup = BeautifulSoup(html, 'html.parser') # save as a BS object"
   ]
  },
  {
   "cell_type": "code",
   "execution_count": 19,
   "metadata": {},
   "outputs": [
    {
     "data": {
      "text/html": [
       "<div>\n",
       "<style scoped>\n",
       "    .dataframe tbody tr th:only-of-type {\n",
       "        vertical-align: middle;\n",
       "    }\n",
       "\n",
       "    .dataframe tbody tr th {\n",
       "        vertical-align: top;\n",
       "    }\n",
       "\n",
       "    .dataframe thead th {\n",
       "        text-align: right;\n",
       "    }\n",
       "</style>\n",
       "<table border=\"1\" class=\"dataframe\">\n",
       "  <thead>\n",
       "    <tr style=\"text-align: right;\">\n",
       "      <th></th>\n",
       "      <th>make</th>\n",
       "      <th>model</th>\n",
       "      <th>year</th>\n",
       "      <th>trim</th>\n",
       "      <th>mileage</th>\n",
       "      <th>price</th>\n",
       "      <th>monthly_payment</th>\n",
       "      <th>link</th>\n",
       "    </tr>\n",
       "  </thead>\n",
       "  <tbody>\n",
       "    <tr>\n",
       "      <th>0</th>\n",
       "      <td>Chevrolet</td>\n",
       "      <td>Volt</td>\n",
       "      <td>2013</td>\n",
       "      <td>base</td>\n",
       "      <td>51,080</td>\n",
       "      <td>21,590</td>\n",
       "      <td>415</td>\n",
       "      <td>www.carvana.com/vehicle/2420612</td>\n",
       "    </tr>\n",
       "    <tr>\n",
       "      <th>1</th>\n",
       "      <td>Chevrolet</td>\n",
       "      <td>Traverse</td>\n",
       "      <td>2016</td>\n",
       "      <td>LT</td>\n",
       "      <td>89,270</td>\n",
       "      <td>21,590</td>\n",
       "      <td>420</td>\n",
       "      <td>www.carvana.com/vehicle/2375292</td>\n",
       "    </tr>\n",
       "    <tr>\n",
       "      <th>2</th>\n",
       "      <td>Chevrolet</td>\n",
       "      <td>Traverse</td>\n",
       "      <td>2016</td>\n",
       "      <td>LS</td>\n",
       "      <td>90,554</td>\n",
       "      <td>18,990</td>\n",
       "      <td>369</td>\n",
       "      <td>www.carvana.com/vehicle/2254728</td>\n",
       "    </tr>\n",
       "    <tr>\n",
       "      <th>3</th>\n",
       "      <td>Chevrolet</td>\n",
       "      <td>Cruze Limited</td>\n",
       "      <td>2016</td>\n",
       "      <td>L</td>\n",
       "      <td>50,006</td>\n",
       "      <td>16,990</td>\n",
       "      <td>336</td>\n",
       "      <td>www.carvana.com/vehicle/2457433</td>\n",
       "    </tr>\n",
       "    <tr>\n",
       "      <th>4</th>\n",
       "      <td>Chevrolet</td>\n",
       "      <td>Traverse</td>\n",
       "      <td>2017</td>\n",
       "      <td>LT</td>\n",
       "      <td>76,906</td>\n",
       "      <td>23,590</td>\n",
       "      <td>443</td>\n",
       "      <td>www.carvana.com/vehicle/2424996</td>\n",
       "    </tr>\n",
       "    <tr>\n",
       "      <th>5</th>\n",
       "      <td>Chevrolet</td>\n",
       "      <td>Volt</td>\n",
       "      <td>2017</td>\n",
       "      <td>LT</td>\n",
       "      <td>81,291</td>\n",
       "      <td>22,990</td>\n",
       "      <td>446</td>\n",
       "      <td>www.carvana.com/vehicle/2466397</td>\n",
       "    </tr>\n",
       "    <tr>\n",
       "      <th>6</th>\n",
       "      <td>Chevrolet</td>\n",
       "      <td>Trax</td>\n",
       "      <td>2016</td>\n",
       "      <td>LT</td>\n",
       "      <td>47,025</td>\n",
       "      <td>18,990</td>\n",
       "      <td>355</td>\n",
       "      <td>www.carvana.com/vehicle/2469624</td>\n",
       "    </tr>\n",
       "    <tr>\n",
       "      <th>7</th>\n",
       "      <td>Chevrolet</td>\n",
       "      <td>Traverse</td>\n",
       "      <td>2017</td>\n",
       "      <td>LT</td>\n",
       "      <td>58,001</td>\n",
       "      <td>24,590</td>\n",
       "      <td>460</td>\n",
       "      <td>www.carvana.com/vehicle/2336254</td>\n",
       "    </tr>\n",
       "    <tr>\n",
       "      <th>8</th>\n",
       "      <td>Chevrolet</td>\n",
       "      <td>Traverse</td>\n",
       "      <td>2016</td>\n",
       "      <td>LS</td>\n",
       "      <td>73,081</td>\n",
       "      <td>19,990</td>\n",
       "      <td>380</td>\n",
       "      <td>www.carvana.com/vehicle/2475544</td>\n",
       "    </tr>\n",
       "    <tr>\n",
       "      <th>9</th>\n",
       "      <td>Chevrolet</td>\n",
       "      <td>Impala</td>\n",
       "      <td>2019</td>\n",
       "      <td>LT</td>\n",
       "      <td>58,401</td>\n",
       "      <td>23,990</td>\n",
       "      <td>449</td>\n",
       "      <td>www.carvana.com/vehicle/2465075</td>\n",
       "    </tr>\n",
       "    <tr>\n",
       "      <th>10</th>\n",
       "      <td>Chevrolet</td>\n",
       "      <td>Trax</td>\n",
       "      <td>2020</td>\n",
       "      <td>LS</td>\n",
       "      <td>11,988</td>\n",
       "      <td>22,990</td>\n",
       "      <td>427</td>\n",
       "      <td>www.carvana.com/vehicle/2474543</td>\n",
       "    </tr>\n",
       "    <tr>\n",
       "      <th>11</th>\n",
       "      <td>Chevrolet</td>\n",
       "      <td>Equinox</td>\n",
       "      <td>2012</td>\n",
       "      <td>LT</td>\n",
       "      <td>41,612</td>\n",
       "      <td>17,990</td>\n",
       "      <td>341</td>\n",
       "      <td>www.carvana.com/vehicle/2368806</td>\n",
       "    </tr>\n",
       "    <tr>\n",
       "      <th>12</th>\n",
       "      <td>Chevrolet</td>\n",
       "      <td>Camaro</td>\n",
       "      <td>2011</td>\n",
       "      <td>LT</td>\n",
       "      <td>25,110</td>\n",
       "      <td>21,990</td>\n",
       "      <td>415</td>\n",
       "      <td>www.carvana.com/vehicle/2377063</td>\n",
       "    </tr>\n",
       "    <tr>\n",
       "      <th>13</th>\n",
       "      <td>Chevrolet</td>\n",
       "      <td>Traverse</td>\n",
       "      <td>2016</td>\n",
       "      <td>LTZ</td>\n",
       "      <td>79,780</td>\n",
       "      <td>23,990</td>\n",
       "      <td>450</td>\n",
       "      <td>www.carvana.com/vehicle/2296827</td>\n",
       "    </tr>\n",
       "    <tr>\n",
       "      <th>14</th>\n",
       "      <td>Chevrolet</td>\n",
       "      <td>Spark</td>\n",
       "      <td>2018</td>\n",
       "      <td>LS</td>\n",
       "      <td>20,312</td>\n",
       "      <td>16,990</td>\n",
       "      <td>321</td>\n",
       "      <td>www.carvana.com/vehicle/2331217</td>\n",
       "    </tr>\n",
       "    <tr>\n",
       "      <th>15</th>\n",
       "      <td>Chevrolet</td>\n",
       "      <td>Equinox</td>\n",
       "      <td>2014</td>\n",
       "      <td>LTZ</td>\n",
       "      <td>95,116</td>\n",
       "      <td>17,990</td>\n",
       "      <td>360</td>\n",
       "      <td>www.carvana.com/vehicle/2435996</td>\n",
       "    </tr>\n",
       "    <tr>\n",
       "      <th>16</th>\n",
       "      <td>Chevrolet</td>\n",
       "      <td>Trax</td>\n",
       "      <td>2015</td>\n",
       "      <td>LT</td>\n",
       "      <td>93,828</td>\n",
       "      <td>16,990</td>\n",
       "      <td>340</td>\n",
       "      <td>www.carvana.com/vehicle/2432943</td>\n",
       "    </tr>\n",
       "    <tr>\n",
       "      <th>17</th>\n",
       "      <td>Chevrolet</td>\n",
       "      <td>Malibu</td>\n",
       "      <td>2014</td>\n",
       "      <td>LTZ</td>\n",
       "      <td>97,242</td>\n",
       "      <td>16,590</td>\n",
       "      <td>328</td>\n",
       "      <td>www.carvana.com/vehicle/2231399</td>\n",
       "    </tr>\n",
       "    <tr>\n",
       "      <th>18</th>\n",
       "      <td>Chevrolet</td>\n",
       "      <td>Cruze Limited</td>\n",
       "      <td>2016</td>\n",
       "      <td>1LT</td>\n",
       "      <td>99,789</td>\n",
       "      <td>14,590</td>\n",
       "      <td>288</td>\n",
       "      <td>www.carvana.com/vehicle/2370548</td>\n",
       "    </tr>\n",
       "    <tr>\n",
       "      <th>19</th>\n",
       "      <td>Chevrolet</td>\n",
       "      <td>Trax</td>\n",
       "      <td>2015</td>\n",
       "      <td>LT</td>\n",
       "      <td>99,025</td>\n",
       "      <td>15,990</td>\n",
       "      <td>320</td>\n",
       "      <td>www.carvana.com/vehicle/2363593</td>\n",
       "    </tr>\n",
       "  </tbody>\n",
       "</table>\n",
       "</div>"
      ],
      "text/plain": [
       "         make          model  year  trim mileage   price monthly_payment  \\\n",
       "0   Chevrolet           Volt  2013  base  51,080  21,590             415   \n",
       "1   Chevrolet       Traverse  2016    LT  89,270  21,590             420   \n",
       "2   Chevrolet       Traverse  2016    LS  90,554  18,990             369   \n",
       "3   Chevrolet  Cruze Limited  2016     L  50,006  16,990             336   \n",
       "4   Chevrolet       Traverse  2017    LT  76,906  23,590             443   \n",
       "5   Chevrolet           Volt  2017    LT  81,291  22,990             446   \n",
       "6   Chevrolet           Trax  2016    LT  47,025  18,990             355   \n",
       "7   Chevrolet       Traverse  2017    LT  58,001  24,590             460   \n",
       "8   Chevrolet       Traverse  2016    LS  73,081  19,990             380   \n",
       "9   Chevrolet         Impala  2019    LT  58,401  23,990             449   \n",
       "10  Chevrolet           Trax  2020    LS  11,988  22,990             427   \n",
       "11  Chevrolet        Equinox  2012    LT  41,612  17,990             341   \n",
       "12  Chevrolet         Camaro  2011    LT  25,110  21,990             415   \n",
       "13  Chevrolet       Traverse  2016   LTZ  79,780  23,990             450   \n",
       "14  Chevrolet          Spark  2018    LS  20,312  16,990             321   \n",
       "15  Chevrolet        Equinox  2014   LTZ  95,116  17,990             360   \n",
       "16  Chevrolet           Trax  2015    LT  93,828  16,990             340   \n",
       "17  Chevrolet         Malibu  2014   LTZ  97,242  16,590             328   \n",
       "18  Chevrolet  Cruze Limited  2016   1LT  99,789  14,590             288   \n",
       "19  Chevrolet           Trax  2015    LT  99,025  15,990             320   \n",
       "\n",
       "                               link  \n",
       "0   www.carvana.com/vehicle/2420612  \n",
       "1   www.carvana.com/vehicle/2375292  \n",
       "2   www.carvana.com/vehicle/2254728  \n",
       "3   www.carvana.com/vehicle/2457433  \n",
       "4   www.carvana.com/vehicle/2424996  \n",
       "5   www.carvana.com/vehicle/2466397  \n",
       "6   www.carvana.com/vehicle/2469624  \n",
       "7   www.carvana.com/vehicle/2336254  \n",
       "8   www.carvana.com/vehicle/2475544  \n",
       "9   www.carvana.com/vehicle/2465075  \n",
       "10  www.carvana.com/vehicle/2474543  \n",
       "11  www.carvana.com/vehicle/2368806  \n",
       "12  www.carvana.com/vehicle/2377063  \n",
       "13  www.carvana.com/vehicle/2296827  \n",
       "14  www.carvana.com/vehicle/2331217  \n",
       "15  www.carvana.com/vehicle/2435996  \n",
       "16  www.carvana.com/vehicle/2432943  \n",
       "17  www.carvana.com/vehicle/2231399  \n",
       "18  www.carvana.com/vehicle/2370548  \n",
       "19  www.carvana.com/vehicle/2363593  "
      ]
     },
     "execution_count": 19,
     "metadata": {},
     "output_type": "execute_result"
    }
   ],
   "source": [
    "year_makes = soup.find_all(\"div\",{\"class\",\"year-make\"})\n",
    "trim_mileages = soup.find_all(\"div\",{\"class\",\"trim-mileage\"})\n",
    "prices = soup.find_all(\"div\",{\"class\",\"price\"})\n",
    "monthly_payments = soup.find_all(\"div\",{\"class\",\"monthly-payment\"})\n",
    "cars = soup.find_all(\"div\",{\"class\",\"result-tile\"})\n",
    "\n",
    "results = {\n",
    "    \"make\":[],\n",
    "    \"model\":[],\n",
    "    \"year\":[],\n",
    "    \"trim\":[],\n",
    "    \"mileage\":[],\n",
    "    \"price\":[],\n",
    "    \"monthly_payment\":[],\n",
    "    \"link\":[]\n",
    "}\n",
    "for year_make, trim_mileage, price, monthly_payment, car in zip(year_makes, trim_mileages, prices, monthly_payments, cars):\n",
    "\n",
    "    simplified_year_make = [item for item in year_make.contents if item != \" \"]\n",
    "    for key, val in zip([\"year\",\"make\",\"model\"],[simplified_year_make[0],simplified_year_make[1],simplified_year_make[2]]):\n",
    "        results[key].append(val)\n",
    "\n",
    "    trim = trim_mileage.findChildren(\"span\")[0].contents[0]\n",
    "    mileage = trim_mileage.findChildren(\"span\")[1].contents[0]\n",
    "    for key, val in zip([\"trim\",\"mileage\"],[trim,mileage]):\n",
    "        results[key].append(val)\n",
    "\n",
    "    results[\"price\"].append(price.contents[-1])\n",
    "\n",
    "    payment = monthly_payment.findChildren(\"span\")[0].contents\n",
    "    results[\"monthly_payment\"].append([item for item in payment if item != \" \"][1])\n",
    "\n",
    "    hrefs = car.find_all(\"a\",href=True)\n",
    "    for ref in hrefs:\n",
    "        results[\"link\"].append(f\"www.carvana.com{ref['href']}\")\n",
    "    \n",
    "pd.DataFrame(results)"
   ]
  },
  {
   "cell_type": "code",
   "execution_count": 20,
   "metadata": {},
   "outputs": [],
   "source": [
    "for trim_mileage in trim_mileages:\n",
    "    trim = trim_mileage.findChildren(\"span\")[0].contents\n",
    "    mileage = trim_mileage.findChildren(\"span\")[1].contents"
   ]
  },
  {
   "cell_type": "markdown",
   "metadata": {},
   "source": []
  },
  {
   "cell_type": "code",
   "execution_count": 21,
   "metadata": {},
   "outputs": [
    {
     "data": {
      "text/plain": [
       "False"
      ]
     },
     "execution_count": 21,
     "metadata": {},
     "output_type": "execute_result"
    }
   ],
   "source": [
    "pages = soup.find_all(\"span\",{\"class\":\"paginationstyles__PaginationText-mpry3x-5 iXXOCI\"})\n",
    "nav = pages[0].contents[0].split(\" \")\n",
    "nav[1] == nav[-1]"
   ]
  },
  {
   "cell_type": "code",
   "execution_count": 34,
   "metadata": {},
   "outputs": [
    {
     "name": "stdout",
     "output_type": "stream",
     "text": [
      "www.carvana.com/vehicle/2420612\n",
      "['Get it by Thursday']\n",
      "www.carvana.com/vehicle/2375292\n",
      "['Get it by Thursday']\n",
      "www.carvana.com/vehicle/2254728\n",
      "['Get it by Thursday']\n",
      "www.carvana.com/vehicle/2457433\n",
      "['Get it by Thursday']\n",
      "www.carvana.com/vehicle/2424996\n",
      "['Get it by Thursday']\n",
      "www.carvana.com/vehicle/2466397\n",
      "['Get it by Thursday']\n",
      "www.carvana.com/vehicle/2469624\n",
      "['Get it by Thursday']\n",
      "www.carvana.com/vehicle/2336254\n",
      "['Get it by Thursday']\n",
      "www.carvana.com/vehicle/2475544\n",
      "['Get it by Thursday']\n",
      "www.carvana.com/vehicle/2465075\n",
      "['Get it by Thursday']\n",
      "www.carvana.com/vehicle/2474543\n",
      "['Get it by Thursday']\n",
      "www.carvana.com/vehicle/2368806\n",
      "['Get it by Thursday']\n",
      "www.carvana.com/vehicle/2377063\n",
      "['Get it by Thursday']\n",
      "www.carvana.com/vehicle/2296827\n",
      "['Get it by Thursday']\n",
      "www.carvana.com/vehicle/2331217\n",
      "['Get it by Thursday']\n",
      "www.carvana.com/vehicle/2435996\n",
      "['Get it by Thursday']\n",
      "www.carvana.com/vehicle/2432943\n",
      "['Get it by Thursday']\n",
      "www.carvana.com/vehicle/2231399\n",
      "['Get it by Thursday']\n",
      "www.carvana.com/vehicle/2370548\n",
      "['Get it by Thursday']\n",
      "www.carvana.com/vehicle/2363593\n",
      "['Get it by Thursday']\n"
     ]
    }
   ],
   "source": [
    "cars = soup.find_all(\"div\",{\"class\",\"result-tile\"})\n",
    "for car in cars:\n",
    "    hrefs = car.find_all(\"a\",href=True)\n",
    "    for ref in hrefs:\n",
    "        print(f\"www.carvana.com{ref['href']}\")\n",
    "    status_message = car.find_all(\"div\",{\"class\",\"days-to-delivery days-to-delivery\"})\n",
    "    print(status_message[0].contents)\n"
   ]
  },
  {
   "cell_type": "code",
   "execution_count": 28,
   "metadata": {},
   "outputs": [
    {
     "name": "stdout",
     "output_type": "stream",
     "text": [
      "['Get it by Thursday']\n",
      "['Get it by Thursday']\n",
      "['Get it by Thursday']\n",
      "['Get it by Thursday']\n",
      "['Get it by Thursday']\n",
      "['Get it by Thursday']\n",
      "['Get it by Thursday']\n",
      "['Get it by Thursday']\n",
      "['Get it by Thursday']\n",
      "['Get it by Thursday']\n",
      "['Get it by Thursday']\n",
      "['Get it by Thursday']\n",
      "['Get it by Thursday']\n",
      "['Get it by Thursday']\n",
      "['Get it by Thursday']\n",
      "['Get it by Thursday']\n",
      "['Get it by Thursday']\n",
      "['Get it by Thursday']\n",
      "['Get it by Thursday']\n",
      "['Get it by Thursday']\n"
     ]
    }
   ],
   "source": [
    "\n",
    "# days to delivery\n",
    "statuses = soup.find_all(\"div\",{\"class\",\"days-to-delivery days-to-delivery\"})\n",
    "for status in statuses:\n",
    "    print(status.contents)"
   ]
  },
  {
   "cell_type": "code",
   "execution_count": 29,
   "metadata": {},
   "outputs": [],
   "source": [
    "# purchase in progress\n",
    "statuses = soup.find_all(\"div\",{\"class\",\"purchase-callout text-only locked\"})\n",
    "for status in statuses:\n",
    "    print(status.contents)"
   ]
  },
  {
   "cell_type": "code",
   "execution_count": 24,
   "metadata": {},
   "outputs": [
    {
     "name": "stdout",
     "output_type": "stream",
     "text": [
      "['$', ' ', '415', ' ', '/mo']\n",
      "['$', ' ', '420', ' ', '/mo']\n",
      "['$', ' ', '369', ' ', '/mo']\n",
      "['$', ' ', '336', ' ', '/mo']\n",
      "['$', ' ', '443', ' ', '/mo']\n",
      "['$', ' ', '446', ' ', '/mo']\n",
      "['$', ' ', '355', ' ', '/mo']\n",
      "['$', ' ', '460', ' ', '/mo']\n",
      "['$', ' ', '380', ' ', '/mo']\n",
      "['$', ' ', '449', ' ', '/mo']\n",
      "['$', ' ', '427', ' ', '/mo']\n",
      "['$', ' ', '341', ' ', '/mo']\n",
      "['$', ' ', '415', ' ', '/mo']\n",
      "['$', ' ', '450', ' ', '/mo']\n",
      "['$', ' ', '321', ' ', '/mo']\n",
      "['$', ' ', '360', ' ', '/mo']\n",
      "['$', ' ', '340', ' ', '/mo']\n",
      "['$', ' ', '328', ' ', '/mo']\n",
      "['$', ' ', '288', ' ', '/mo']\n",
      "['$', ' ', '320', ' ', '/mo']\n"
     ]
    }
   ],
   "source": [
    "for payment in monthly_payments:\n",
    "    print(payment.findChildren(\"span\")[0].contents)"
   ]
  },
  {
   "cell_type": "code",
   "execution_count": null,
   "metadata": {},
   "outputs": [],
   "source": []
  }
 ],
 "metadata": {
  "kernelspec": {
   "display_name": "Python 3.8.8 ('base')",
   "language": "python",
   "name": "python3"
  },
  "language_info": {
   "codemirror_mode": {
    "name": "ipython",
    "version": 3
   },
   "file_extension": ".py",
   "mimetype": "text/x-python",
   "name": "python",
   "nbconvert_exporter": "python",
   "pygments_lexer": "ipython3",
   "version": "3.8.8"
  },
  "orig_nbformat": 4,
  "vscode": {
   "interpreter": {
    "hash": "4fc815e1b9a3cf0de540f3f398564ef27b1d50bd94ee39821f4df0deea31ba38"
   }
  }
 },
 "nbformat": 4,
 "nbformat_minor": 2
}
