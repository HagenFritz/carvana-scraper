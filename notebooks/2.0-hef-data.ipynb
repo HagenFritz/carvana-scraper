{
 "cells": [
  {
   "cell_type": "markdown",
   "metadata": {},
   "source": [
    "# Working with Data\n",
    "This notebooks is dedicated toward working with data."
   ]
  },
  {
   "cell_type": "code",
   "execution_count": 7,
   "metadata": {},
   "outputs": [
    {
     "name": "stdout",
     "output_type": "stream",
     "text": [
      "The autoreload extension is already loaded. To reload it, use:\n",
      "  %reload_ext autoreload\n"
     ]
    }
   ],
   "source": [
    "import pandas as pd\n",
    "import json\n",
    "\n",
    "%load_ext autoreload\n",
    "%autoreload 2"
   ]
  },
  {
   "cell_type": "markdown",
   "metadata": {},
   "source": [
    "## Filtering\n",
    "Running through some of the filter options"
   ]
  },
  {
   "cell_type": "markdown",
   "metadata": {},
   "source": [
    "### Importing the Raw Data\n",
    "Taking the latest data dumped into the raw directory."
   ]
  },
  {
   "cell_type": "code",
   "execution_count": null,
   "metadata": {},
   "outputs": [],
   "source": []
  },
  {
   "cell_type": "code",
   "execution_count": 8,
   "metadata": {},
   "outputs": [],
   "source": [
    "# importing the filter file\n",
    "with open(f'../data/filters.json') as f:\n",
    "    filters = json.load(f)"
   ]
  },
  {
   "cell_type": "code",
   "execution_count": 9,
   "metadata": {},
   "outputs": [
    {
     "data": {
      "text/plain": [
       "{'price_range': {'min': 0, 'max': 40000},\n",
       " 'make': {'standard': ['Chevrolet',\n",
       "   'Chrysler',\n",
       "   'Dodge',\n",
       "   'Ford',\n",
       "   'Honda',\n",
       "   'Hyundai',\n",
       "   'Jeep',\n",
       "   'Kia',\n",
       "   'Nissan',\n",
       "   'Subaru',\n",
       "   'Toyota',\n",
       "   'Volkswagen'],\n",
       "  'luxury': ['Acura', 'Audi', 'BMW', 'INFINITI', 'Lexus', 'Mercedes-Benz'],\n",
       "  'electric': ['Tesla'],\n",
       "  'misc': []},\n",
       " 'body_type': ['Suv', 'Sedan', 'Hatchback', 'Truck', 'Wagon'],\n",
       " 'year': {'min': 2015, 'max': 2022}}"
      ]
     },
     "execution_count": 9,
     "metadata": {},
     "output_type": "execute_result"
    }
   ],
   "source": [
    "filters"
   ]
  },
  {
   "cell_type": "code",
   "execution_count": null,
   "metadata": {},
   "outputs": [],
   "source": []
  }
 ],
 "metadata": {
  "kernelspec": {
   "display_name": "Python 3.8.8 ('base')",
   "language": "python",
   "name": "python3"
  },
  "language_info": {
   "codemirror_mode": {
    "name": "ipython",
    "version": 3
   },
   "file_extension": ".py",
   "mimetype": "text/x-python",
   "name": "python",
   "nbconvert_exporter": "python",
   "pygments_lexer": "ipython3",
   "version": "3.8.8"
  },
  "orig_nbformat": 4,
  "vscode": {
   "interpreter": {
    "hash": "4fc815e1b9a3cf0de540f3f398564ef27b1d50bd94ee39821f4df0deea31ba38"
   }
  }
 },
 "nbformat": 4,
 "nbformat_minor": 2
}
